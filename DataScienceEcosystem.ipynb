{
  "metadata": {
    "kernelspec": {
      "name": "python",
      "display_name": "Python (Pyodide)",
      "language": "python"
    },
    "language_info": {
      "codemirror_mode": {
        "name": "python",
        "version": 3
      },
      "file_extension": ".py",
      "mimetype": "text/x-python",
      "name": "python",
      "nbconvert_exporter": "python",
      "pygments_lexer": "ipython3",
      "version": "3.8"
    }
  },
  "nbformat_minor": 5,
  "nbformat": 4,
  "cells": [
    {
      "id": "a0ec7801-66dd-4cfe-b2e9-600f05550346",
      "cell_type": "markdown",
      "source": "# Data Science Tools and Ecosystem",
      "metadata": {}
    },
    {
      "id": "48c240bd-7eea-429b-a431-ebc4cd0e4e39",
      "cell_type": "markdown",
      "source": "In this notebook, Data Science Tools and Ecosystem are summarized.",
      "metadata": {}
    },
    {
      "id": "f54210cf-85b1-40df-8f7b-3a71c2e0405b",
      "cell_type": "markdown",
      "source": "Some of the popular languages that Data Scientists use are:\n\n1. Python\n2. R\n3. SQL\n",
      "metadata": {}
    },
    {
      "id": "3d3d23ca-3fd6-4031-8095-227c1403d95e",
      "cell_type": "markdown",
      "source": "Some of the commonly used libraries used by Data Scientists include:\n* Python \n    1. Pandas\n    2. Numpy\n    3. matplotlib\n    4. seaborn\n    5. plotly\n    6. TensorFlow\n    7. Keras\n    8. PyTorch\n* R\n   1. ggplot\n   2. dplyr\n   3. data.table\n   4. caret\n",
      "metadata": {}
    },
    {
      "id": "bc5edac2-be46-4273-99fc-c6da8304f2ae",
      "cell_type": "markdown",
      "source": "| Data Science Tools          |\n|:-----------------------------|\n| Jupyter Notebook            |\n| RStudio                     |\n| VS Code                     |",
      "metadata": {}
    },
    {
      "id": "08ab0d9a-32b8-476b-9d93-b63fab7e3fdf",
      "cell_type": "markdown",
      "source": "### Below are a few examples of evaluating arithmetic expressions in Python",
      "metadata": {}
    },
    {
      "id": "da5211b0-be9f-4622-97c7-c7c068e7dc5d",
      "cell_type": "code",
      "source": "#This a simple arithmetic expression to mutiply then add integers\n(3*4)+5",
      "metadata": {
        "trusted": true
      },
      "outputs": [
        {
          "execution_count": 1,
          "output_type": "execute_result",
          "data": {
            "text/plain": "17"
          },
          "metadata": {}
        }
      ],
      "execution_count": 1
    },
    {
      "id": "1f89d328-c97d-4e9b-bd28-af07e1fba7a6",
      "cell_type": "code",
      "source": "# This will convert 200 minutes to hours by diving by 60\n200/60",
      "metadata": {
        "trusted": true
      },
      "outputs": [
        {
          "execution_count": 2,
          "output_type": "execute_result",
          "data": {
            "text/plain": "3.3333333333333335"
          },
          "metadata": {}
        }
      ],
      "execution_count": 2
    },
    {
      "id": "1a2b8498-6ab3-4de2-940f-da4a8c2ff97e",
      "cell_type": "markdown",
      "source": "**Objectives:**\n\n* List popular languages for Data Science\n* List of commonly used libraries used by Data Scientists\n* List of data science tools\n* Basic arithmetic operations\n  ",
      "metadata": {}
    },
    {
      "id": "45d0f8c2-0d8e-4f7a-bab7-bde76ce2a2db",
      "cell_type": "markdown",
      "source": "## Author\nHariom Sharma",
      "metadata": {}
    },
    {
      "id": "6b2ef6d2-4824-4b0b-b1bb-857bb10e28aa",
      "cell_type": "code",
      "source": "",
      "metadata": {
        "trusted": true
      },
      "outputs": [],
      "execution_count": null
    }
  ]
}